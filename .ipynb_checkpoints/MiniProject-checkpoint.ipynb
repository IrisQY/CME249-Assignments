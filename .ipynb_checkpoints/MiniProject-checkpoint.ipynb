{
 "cells": [
  {
   "cell_type": "markdown",
   "metadata": {},
   "source": [
    "### American option pricing\n",
    "- Time steps: 125 (trading days of 6 months)\n",
    "- Underlying asset price: $S$, governed by lognormal distribution, set initial price at US $\\$$ 100\n",
    "- Action at each time step: $a \\in \\{0,1\\}$\n",
    "- Strike price: $K$\n"
   ]
  },
  {
   "cell_type": "code",
   "execution_count": 1,
   "metadata": {},
   "outputs": [],
   "source": [
    "import numpy as np\n",
    "from src.MDPforFA import MDPforFA"
   ]
  },
  {
   "cell_type": "code",
   "execution_count": 2,
   "metadata": {},
   "outputs": [],
   "source": [
    "gamma = 1\n",
    "K = 100\n",
    "T = 125\n",
    "\n",
    "def state_action_func(S: float):\n",
    "    return set([0,1])\n",
    "\n",
    "def state_reward_func(S:float, A:bool):\n",
    "    s_next = np.random.lognormal(5, 1, 1)[0]\n",
    "    if A == 0:\n",
    "        reward = 0\n",
    "    else:\n",
    "        reward = max(0, s_next - K)\n",
    "    return s_next, reward\n",
    "\n",
    "def init_state_func():\n",
    "    return 100\n",
    "\n",
    "def init_act_func(S:float):\n",
    "    return 0\n",
    "\n",
    "def terminal_state_func(S:float):\n",
    "    return 0\n",
    "\n",
    "mdp = MDPforFA(init_state_func, state_reward_func, terminal_state_func, init_state_func, init_act_func, gamma)"
   ]
  },
  {
   "cell_type": "code",
   "execution_count": 3,
   "metadata": {},
   "outputs": [],
   "source": [
    "s_cur, a_cur = mdp.init_sa()\n",
    "r, s_next = mdp.state_reward_func(s_cur, a_cur)\n",
    "mdp.is_terminal_state(100)"
   ]
  }
 ],
 "metadata": {
  "kernelspec": {
   "display_name": "Python 3",
   "language": "python",
   "name": "python3"
  },
  "language_info": {
   "codemirror_mode": {
    "name": "ipython",
    "version": 3
   },
   "file_extension": ".py",
   "mimetype": "text/x-python",
   "name": "python",
   "nbconvert_exporter": "python",
   "pygments_lexer": "ipython3",
   "version": "3.6.8"
  },
  "toc": {
   "base_numbering": 1,
   "nav_menu": {},
   "number_sections": false,
   "sideBar": true,
   "skip_h1_title": false,
   "title_cell": "Table of Contents",
   "title_sidebar": "Contents",
   "toc_cell": false,
   "toc_position": {},
   "toc_section_display": true,
   "toc_window_display": true
  }
 },
 "nbformat": 4,
 "nbformat_minor": 2
}
