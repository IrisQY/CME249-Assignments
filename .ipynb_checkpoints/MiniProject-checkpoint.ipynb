{
 "cells": [
  {
   "cell_type": "markdown",
   "metadata": {},
   "source": [
    "### American option pricing\n",
    "- Time steps: 125 (trading days of 6 months)\n",
    "- Underlying asset price: $S$, generated from empirical data\n",
    "- Action at each time step: $a \\in \\{0,1\\}$\n",
    "- Strike price: $K$\n"
   ]
  },
  {
   "cell_type": "code",
   "execution_count": 2,
   "metadata": {},
   "outputs": [],
   "source": [
    "import numpy as np\n",
    "from pandas_datareader import data as pdr\n",
    "from src.MDPforFA import MDPforFA"
   ]
  },
  {
   "cell_type": "markdown",
   "metadata": {},
   "source": [
    "#### Simulate underlying asset price path using real data"
   ]
  },
  {
   "cell_type": "code",
   "execution_count": 9,
   "metadata": {},
   "outputs": [
    {
     "data": {
      "text/html": [
       "<div>\n",
       "<style scoped>\n",
       "    .dataframe tbody tr th:only-of-type {\n",
       "        vertical-align: middle;\n",
       "    }\n",
       "\n",
       "    .dataframe tbody tr th {\n",
       "        vertical-align: top;\n",
       "    }\n",
       "\n",
       "    .dataframe thead th {\n",
       "        text-align: right;\n",
       "    }\n",
       "</style>\n",
       "<table border=\"1\" class=\"dataframe\">\n",
       "  <thead>\n",
       "    <tr style=\"text-align: right;\">\n",
       "      <th></th>\n",
       "      <th>Date</th>\n",
       "      <th>Close</th>\n",
       "    </tr>\n",
       "  </thead>\n",
       "  <tbody>\n",
       "    <tr>\n",
       "      <th>0</th>\n",
       "      <td>2010-01-04</td>\n",
       "      <td>1132.989990</td>\n",
       "    </tr>\n",
       "    <tr>\n",
       "      <th>1</th>\n",
       "      <td>2010-01-05</td>\n",
       "      <td>1136.520020</td>\n",
       "    </tr>\n",
       "    <tr>\n",
       "      <th>2</th>\n",
       "      <td>2010-01-06</td>\n",
       "      <td>1137.140015</td>\n",
       "    </tr>\n",
       "    <tr>\n",
       "      <th>3</th>\n",
       "      <td>2010-01-07</td>\n",
       "      <td>1141.689941</td>\n",
       "    </tr>\n",
       "    <tr>\n",
       "      <th>4</th>\n",
       "      <td>2010-01-08</td>\n",
       "      <td>1144.979980</td>\n",
       "    </tr>\n",
       "  </tbody>\n",
       "</table>\n",
       "</div>"
      ],
      "text/plain": [
       "        Date        Close\n",
       "0 2010-01-04  1132.989990\n",
       "1 2010-01-05  1136.520020\n",
       "2 2010-01-06  1137.140015\n",
       "3 2010-01-07  1141.689941\n",
       "4 2010-01-08  1144.979980"
      ]
     },
     "execution_count": 9,
     "metadata": {},
     "output_type": "execute_result"
    }
   ],
   "source": [
    "data = pdr.get_data_yahoo('^GSPC', start=\"2010-01-01\", end=\"2017-12-31\")# load S&P 500 as empirical data\n",
    "data = data.reset_index(drop = False) \n",
    "data = data[['Date','Close']]\n",
    "data.head()"
   ]
  },
  {
   "cell_type": "code",
   "execution_count": null,
   "metadata": {},
   "outputs": [],
   "source": [
    "SP_path = []\n",
    "m = 50\n",
    "T = 125\n",
    "for i in range(m):\n",
    "    for j in range(n):"
   ]
  },
  {
   "cell_type": "code",
   "execution_count": 2,
   "metadata": {},
   "outputs": [],
   "source": [
    "gamma = 1\n",
    "K =100\n",
    "\n",
    "def state_action_func(S: float):\n",
    "    return set([0,1])\n",
    "\n",
    "def state_reward_func(S:float, A:bool):\n",
    "    s_next = np.random.lognormal(5, 1, 1)[0]\n",
    "    if A == 0:\n",
    "        reward = 0\n",
    "    else:\n",
    "        reward = max(0, s_next - K)\n",
    "    return s_next, reward\n",
    "\n",
    "def init_state_func():\n",
    "    return 100\n",
    "\n",
    "def init_act_func(S:float):\n",
    "    return 0\n",
    "\n",
    "def terminal_state_func(S:float):\n",
    "    return 0\n",
    "\n",
    "mdp = MDPforFA(init_state_func, state_reward_func, terminal_state_func, init_state_func, init_act_func, gamma)"
   ]
  },
  {
   "cell_type": "code",
   "execution_count": null,
   "metadata": {},
   "outputs": [],
   "source": []
  },
  {
   "cell_type": "code",
   "execution_count": 3,
   "metadata": {},
   "outputs": [],
   "source": [
    "s_cur, a_cur = mdp.init_sa()\n",
    "r, s_next = mdp.state_reward_func(s_cur, a_cur)\n",
    "mdp.is_terminal_state(100)"
   ]
  }
 ],
 "metadata": {
  "kernelspec": {
   "display_name": "Python 3",
   "language": "python",
   "name": "python3"
  },
  "language_info": {
   "codemirror_mode": {
    "name": "ipython",
    "version": 3
   },
   "file_extension": ".py",
   "mimetype": "text/x-python",
   "name": "python",
   "nbconvert_exporter": "python",
   "pygments_lexer": "ipython3",
   "version": "3.6.8"
  },
  "toc": {
   "base_numbering": 1,
   "nav_menu": {},
   "number_sections": false,
   "sideBar": true,
   "skip_h1_title": false,
   "title_cell": "Table of Contents",
   "title_sidebar": "Contents",
   "toc_cell": false,
   "toc_position": {},
   "toc_section_display": true,
   "toc_window_display": false
  }
 },
 "nbformat": 4,
 "nbformat_minor": 2
}
