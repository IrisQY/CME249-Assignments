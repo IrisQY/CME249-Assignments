{
 "cells": [
  {
   "cell_type": "markdown",
   "metadata": {},
   "source": [
    "##### Notation basics\n",
    "- State space $S = \\{s_1,s_2,...s_n\\}$, each of which can be fitted into feature functions $\\phi = [\\phi_1,...,\\phi_m]$\n",
    "- Action space with finite actions $A$\n",
    "- Fixed, stochastic policy $\\pi(a|s)$\n",
    "- Value function under $\\pi(a|s)$, $\\boldsymbol{v}_{\\pi}$\n",
    "- Approximation of value function as $\\boldsymbol{v}_{w} = w^T \\phi$\n",
    "- Expected reward $r(s,a)$ | $R_{\\pi}(s) = \\sum_{a \\in A} \\pi(a|s) r(s,a)$\n",
    "- Transition probability $P(s,s',a)$ | $P_{\\pi}(s,s') = \\sum_{a \\in A} \\pi(a|s) P(s,s',a)$\n",
    "- Discount factor $\\gamma$\n",
    "- Bellman operator $\\boldsymbol{B}_{\\pi} v = R_{\\pi} + \\gamma P_{\\pi} v$\n",
    "- Projection operator $\\boldsymbol{\\Pi}_{\\phi}$"
   ]
  },
  {
   "cell_type": "markdown",
   "metadata": {},
   "source": [
    "##### Derivations to solutions of Linear Systems for Bellman Error-minimization and Projected Bellman Error-minimization "
   ]
  },
  {
   "cell_type": "markdown",
   "metadata": {},
   "source": [
    "Write Proof (with precise notation) of the Policy Gradient Theorem"
   ]
  },
  {
   "cell_type": "markdown",
   "metadata": {},
   "source": [
    "Derive the score function for softmax policy (for finite set of actions)"
   ]
  },
  {
   "cell_type": "markdown",
   "metadata": {},
   "source": [
    "Derive the score function for gaussian policy (for continuous actions)"
   ]
  },
  {
   "cell_type": "markdown",
   "metadata": {},
   "source": [
    "Write code for the REINFORCE Algoithm (Monte-Carlo Policy Gradient Algorithm, i.e., no Critic)"
   ]
  },
  {
   "cell_type": "markdown",
   "metadata": {},
   "source": [
    "Write Proof (with proper notation) of the Compatible Function Approximation Theorem"
   ]
  }
 ],
 "metadata": {
  "kernelspec": {
   "display_name": "Python 3",
   "language": "python",
   "name": "python3"
  },
  "language_info": {
   "codemirror_mode": {
    "name": "ipython",
    "version": 3
   },
   "file_extension": ".py",
   "mimetype": "text/x-python",
   "name": "python",
   "nbconvert_exporter": "python",
   "pygments_lexer": "ipython3",
   "version": "3.6.8"
  },
  "toc": {
   "base_numbering": 1,
   "nav_menu": {},
   "number_sections": false,
   "sideBar": true,
   "skip_h1_title": false,
   "title_cell": "Table of Contents",
   "title_sidebar": "Contents",
   "toc_cell": false,
   "toc_position": {},
   "toc_section_display": true,
   "toc_window_display": false
  }
 },
 "nbformat": 4,
 "nbformat_minor": 2
}
