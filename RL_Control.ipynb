{
 "cells": [
  {
   "cell_type": "markdown",
   "metadata": {},
   "source": [
    "### Offline Forward-View and Backward-View TD\n",
    "We know offline forward-view TD($\\lambda$) as:\n",
    "$$G_t^{(n)} = R_{t+1}+...+\\gamma^n V(S_{t+n})$$\n",
    "$$G_t^{\\lambda} = (1-\\lambda)\\sum_{n=1}^{\\infty}\\lambda^{n-1} G_t^{(n)}$$\n",
    "$$V(S_t) = V(S_t) + \\alpha(G_t^{\\lambda} - V(S_t))$$\n",
    "And backward-view TD($\\lambda$) as:\n",
    "$$\\delta_t = R_{t+1} + \\gamma V(S_{t+1}) - V(S_t)$$\n",
    "$$\\mathbb{E}_t(s) = \\gamma \\lambda \\mathbb{E}_{t-1}(s) + \\mathbb{1}(S_t = s)$$\n",
    "$$V(S_t) = V(S_t) + \\alpha \\delta_t \\mathbb{E}_t(s) | \\mathbb{E}_0(s) = 0$$\n",
    "Consider an episode where $s$ is visited once at time-step $k$,then $\\mathbb{E}_t(s) = 0$ for $t < k$ and $E_t(s) = (\\lambda \\gamma)^{t-k}$ for $t \\geq k$."
   ]
  },
  {
   "cell_type": "code",
   "execution_count": null,
   "metadata": {},
   "outputs": [],
   "source": []
  }
 ],
 "metadata": {
  "kernelspec": {
   "display_name": "Python 3",
   "language": "python",
   "name": "python3"
  },
  "language_info": {
   "codemirror_mode": {
    "name": "ipython",
    "version": 3
   },
   "file_extension": ".py",
   "mimetype": "text/x-python",
   "name": "python",
   "nbconvert_exporter": "python",
   "pygments_lexer": "ipython3",
   "version": "3.6.8"
  },
  "toc": {
   "base_numbering": 1,
   "nav_menu": {},
   "number_sections": false,
   "sideBar": true,
   "skip_h1_title": false,
   "title_cell": "Table of Contents",
   "title_sidebar": "Contents",
   "toc_cell": false,
   "toc_position": {},
   "toc_section_display": true,
   "toc_window_display": true
  }
 },
 "nbformat": 4,
 "nbformat_minor": 2
}
