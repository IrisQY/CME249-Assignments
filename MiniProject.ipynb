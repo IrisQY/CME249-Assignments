{
 "cells": [
  {
   "cell_type": "markdown",
   "metadata": {},
   "source": [
    "### American (call) option pricing\n",
    "- Time steps: 125 (trading days of 6 months)\n",
    "- Underlying asset price: $S$, generated from empirical data\n",
    "- Action at each time step: $a \\in \\{0,1\\}$\n",
    "- Strike price: $K$\n"
   ]
  },
  {
   "cell_type": "code",
   "execution_count": 1,
   "metadata": {},
   "outputs": [],
   "source": [
    "import numpy as np\n",
    "import random\n",
    "from pandas_datareader import data as pdr\n",
    "import matplotlib.pyplot as plt\n",
    "plt.rcParams['figure.figsize'] = [5, 5]\n",
    "from typing import TypeVar, Mapping, Set, Callable, Tuple, Generic\n",
    "from src.MDPforFA import MDPforFA"
   ]
  },
  {
   "cell_type": "markdown",
   "metadata": {},
   "source": [
    "#### Simulate underlying asset price path using real data"
   ]
  },
  {
   "cell_type": "code",
   "execution_count": 2,
   "metadata": {},
   "outputs": [
    {
     "data": {
      "text/html": [
       "<div>\n",
       "<style scoped>\n",
       "    .dataframe tbody tr th:only-of-type {\n",
       "        vertical-align: middle;\n",
       "    }\n",
       "\n",
       "    .dataframe tbody tr th {\n",
       "        vertical-align: top;\n",
       "    }\n",
       "\n",
       "    .dataframe thead th {\n",
       "        text-align: right;\n",
       "    }\n",
       "</style>\n",
       "<table border=\"1\" class=\"dataframe\">\n",
       "  <thead>\n",
       "    <tr style=\"text-align: right;\">\n",
       "      <th></th>\n",
       "      <th>Date</th>\n",
       "      <th>Close</th>\n",
       "      <th>Return</th>\n",
       "    </tr>\n",
       "  </thead>\n",
       "  <tbody>\n",
       "    <tr>\n",
       "      <th>0</th>\n",
       "      <td>2010-01-04</td>\n",
       "      <td>1132.989990</td>\n",
       "      <td>NaN</td>\n",
       "    </tr>\n",
       "    <tr>\n",
       "      <th>1</th>\n",
       "      <td>2010-01-05</td>\n",
       "      <td>1136.520020</td>\n",
       "      <td>0.003111</td>\n",
       "    </tr>\n",
       "    <tr>\n",
       "      <th>2</th>\n",
       "      <td>2010-01-06</td>\n",
       "      <td>1137.140015</td>\n",
       "      <td>0.000545</td>\n",
       "    </tr>\n",
       "    <tr>\n",
       "      <th>3</th>\n",
       "      <td>2010-01-07</td>\n",
       "      <td>1141.689941</td>\n",
       "      <td>0.003993</td>\n",
       "    </tr>\n",
       "    <tr>\n",
       "      <th>4</th>\n",
       "      <td>2010-01-08</td>\n",
       "      <td>1144.979980</td>\n",
       "      <td>0.002878</td>\n",
       "    </tr>\n",
       "  </tbody>\n",
       "</table>\n",
       "</div>"
      ],
      "text/plain": [
       "        Date        Close    Return\n",
       "0 2010-01-04  1132.989990       NaN\n",
       "1 2010-01-05  1136.520020  0.003111\n",
       "2 2010-01-06  1137.140015  0.000545\n",
       "3 2010-01-07  1141.689941  0.003993\n",
       "4 2010-01-08  1144.979980  0.002878"
      ]
     },
     "execution_count": 2,
     "metadata": {},
     "output_type": "execute_result"
    }
   ],
   "source": [
    "data = pdr.get_data_yahoo('^GSPC', start=\"2010-01-01\", end=\"2017-12-31\")# load S&P 500 as empirical data\n",
    "data = data.reset_index(drop = False) \n",
    "data = data[['Date','Close']]\n",
    "r = [None]*len(data['Close'])\n",
    "r[1:] = list(np.log(np.asarray(data['Close'][1:])) - np.log(np.asarray(data['Close'][:-1])))\n",
    "data['Return'] = r\n",
    "data.head()"
   ]
  },
  {
   "cell_type": "code",
   "execution_count": 3,
   "metadata": {},
   "outputs": [
    {
     "data": {
      "image/png": "[encoded data removed]",
      "text/plain": [
       "<Figure size 432x288 with 1 Axes>"
      ]
     },
     "metadata": {
      "needs_background": "light"
     },
     "output_type": "display_data"
    }
   ],
   "source": [
    "dist = data['Return'][1:]\n",
    "def get_next_price(s_cur: float, dist = set(dist)):\n",
    "    r = random.sample(dist,1)[0]\n",
    "    s_next = s_cur*(1+r)\n",
    "    return s_next\n",
    "title = \"Daily log returns\"\n",
    "plt.hist(dist, bins = 20)\n",
    "plt.title(title)\n",
    "plt.show()"
   ]
  },
  {
   "cell_type": "markdown",
   "metadata": {},
   "source": [
    "#### Price path, features and payoff"
   ]
  },
  {
   "cell_type": "code",
   "execution_count": 52,
   "metadata": {},
   "outputs": [],
   "source": [
    "K = 3000 # strike price\n",
    "m = 50\n",
    "T = 125\n",
    "s_0 = 3200\n",
    "def generate_sp_path(m = m, s_0 = s_0, T = T):\n",
    "    SP_path = []\n",
    "    for i in range(m):\n",
    "        cur_eps = []\n",
    "        for j in range(T):\n",
    "            if j == 0:\n",
    "                cur_eps.append(s_0)\n",
    "            else:\n",
    "                cur_eps.append(get_next_price(cur_eps[-1]))\n",
    "        SP_path.append(cur_eps)\n",
    "    return SP_path\n",
    "SP_path = generate_sp_path(m = m, s_0 = s_0, T = T)\n",
    "# Li, Szepesvari, Schuurmans features\n",
    "def get_features(t: int, s: float, T = T, K = K):\n",
    "    s_in = s/K\n",
    "    phi = np.ones(7)\n",
    "    phi[0] = np.sin(np.pi*(T-t)/(2*T))\n",
    "    phi[1] = np.log(T-t)\n",
    "    phi[2] = (t/T)**2\n",
    "    phi[4] = np.exp(-s_in/2)\n",
    "    phi[5] = np.exp(-s_in/2)*(1-s_in)\n",
    "    phi[6] = np.exp(-s_in/2)*(1-2*s_in+ s_in**2)\n",
    "    return phi\n",
    "def payoff(s: float, K = K):\n",
    "    return max(0, s-K)"
   ]
  },
  {
   "cell_type": "markdown",
   "metadata": {},
   "source": [
    "#### Prepare MDP"
   ]
  },
  {
   "cell_type": "code",
   "execution_count": 21,
   "metadata": {},
   "outputs": [],
   "source": [
    "gamma = 1\n",
    "def state_action_func(S:Tuple[int,float]):\n",
    "    return set([0,1])\n",
    "\n",
    "def terminal_state_func(S:Tuple[int,float]):\n",
    "    return S[0] >= T -1\n",
    "\n",
    "def state_reward_func(S:Tuple[int,float], A:int):\n",
    "    if S[0] == T-1:\n",
    "        return None, payoff(S[1])\n",
    "    else:\n",
    "        return get_next_price(S[1]), payoff(S[1])\n",
    "\n",
    "def init_state_func():\n",
    "    return (0,2800)\n",
    "\n",
    "def init_act_func(S:float):\n",
    "    return 0\n",
    "\n",
    "mdp = MDPforFA(init_state_func, state_reward_func, terminal_state_func, init_state_func, init_act_func, gamma)"
   ]
  },
  {
   "cell_type": "markdown",
   "metadata": {},
   "source": [
    "#### Solution\n",
    "##### Longstaff-Schwartz Algorithm"
   ]
  },
  {
   "cell_type": "code",
   "execution_count": 64,
   "metadata": {
    "scrolled": true
   },
   "outputs": [
    {
     "name": "stdout",
     "output_type": "stream",
     "text": [
      "LS option price, 393.4951543829372\n"
     ]
    }
   ],
   "source": [
    "SP = np.asarray(SP_path)\n",
    "r = 1\n",
    "def LongstaffSchwartz_call(SP: np.ndarray, r: float, get_features = get_features, payoff = payoff) -> float:\n",
    "    # SP[0:m, 0:n+1], i: path, j: timestep\n",
    "    # r, discount rate\n",
    "    # function\n",
    "    m,n = SP.shape\n",
    "    l = get_features(0,SP[0,0]).shape[0]\n",
    "    CF = [payoff(SP[i,n-1],K) for i in range(m)]\n",
    "    for j in range(n-2,-1):\n",
    "        CF = CF * 1\n",
    "        X = np.asarray([get_features(j,SP[i,j]) for i in range(m) if payoff(SP[i,j],K)>0]).reshape(-1,l)\n",
    "        Y = np.asarray([CF[i] for i in range(m) if payoff(SP[i,j],K)>0]).reshape(-1,1)\n",
    "        w = np.linalg.inv(X.T.dot(X)).dot(X.T).dot(Y)\n",
    "        for i in range(m):\n",
    "            if payoff(SP[i,j],K) > w.reshape(-1).dot(get_features(j,SP[i,j])):\n",
    "                CF[i] = payoff(SP[i,j],K)\n",
    "    exercise = payoff(SP[0,0],K)\n",
    "    _continue = 1*np.mean(CF)\n",
    "    return (max(exercise,_continue))\n",
    "print(\"LS option price,\",LongstaffSchwartz_call(SP,1,get_features,payoff))"
   ]
  },
  {
   "cell_type": "markdown",
   "metadata": {},
   "source": [
    "##### Fitted Q-Iteration"
   ]
  },
  {
   "cell_type": "code",
   "execution_count": 82,
   "metadata": {},
   "outputs": [
    {
     "name": "stdout",
     "output_type": "stream",
     "text": [
      "FQI price, 379.227895693693\n"
     ]
    }
   ],
   "source": [
    "def fqi_call(SP: np.ndarray, r: float, batch_size = 5,get_features = get_features, payoff = payoff) -> float:\n",
    "    m,n = SP.shape\n",
    "    l = get_features(0,SP[0,0]).shape[0]\n",
    "    a_mat = np.zeros((l,l))\n",
    "    b_vec = np.zeros(l)\n",
    "    w = np.zeros(l)\n",
    "    for i in range(m):\n",
    "        for j in range(n-1):\n",
    "            phi = get_features(j,SP[i,j])\n",
    "            a_mat += np.outer(phi, phi)\n",
    "            if j < n - 2:\n",
    "                P = get_features(j+1,SP[i,j+1])\n",
    "            else:\n",
    "                P = 0\n",
    "            \n",
    "            local_paths = SP[i,:(j+2)]\n",
    "            all_max_val = np.zeros(local_paths.shape)\n",
    "            for n, local_path in enumerate(local_paths):\n",
    "                next_payoff = payoff(local_path,K)\n",
    "                if j == n - 1:\n",
    "                    next_phi = np.zeros(l)\n",
    "                else:\n",
    "                    next_phi = np.array(get_features(j+1,SP[i,j+1]))\n",
    "                all_max_val[n] = max(next_payoff, w.dot(next_phi))\n",
    "            max_val = np.mean(all_max_val)\n",
    "            b_vec += phi*max_val\n",
    "        if (i + 1) % batch_size == 0:\n",
    "            w = np.linalg.inv(a_mat).dot(b_vec)\n",
    "            a_mat = np.zeros((l, l))\n",
    "            b_vec = np.zeros(l)\n",
    "    \n",
    "    CF = np.zeros(m)\n",
    "    for i in range(m):\n",
    "        j = 0\n",
    "        while j <= n-1:\n",
    "            prices = SP[i,:(j + 1)]\n",
    "            exercise = payoff(SP[i,j+1],K)\n",
    "            if j == T:\n",
    "                _continue = 0.\n",
    "            else:\n",
    "                _continue = w.dot(get_features(j+1, SP[i,j+1]))\n",
    "            j += 1\n",
    "            if exercise > _continue:\n",
    "                CF[i] = exercise\n",
    "                j = n + 1\n",
    "    return np.average(prices) - 2800\n",
    "\n",
    "print(\"FQI price,\",fqi_call(SP, 1, 5, get_features, payoff))"
   ]
  }
 ],
 "metadata": {
  "kernelspec": {
   "display_name": "Python 3",
   "language": "python",
   "name": "python3"
  },
  "language_info": {
   "codemirror_mode": {
    "name": "ipython",
    "version": 3
   },
   "file_extension": ".py",
   "mimetype": "text/x-python",
   "name": "python",
   "nbconvert_exporter": "python",
   "pygments_lexer": "ipython3",
   "version": "3.6.8"
  },
  "toc": {
   "base_numbering": 1,
   "nav_menu": {},
   "number_sections": false,
   "sideBar": true,
   "skip_h1_title": false,
   "title_cell": "Table of Contents",
   "title_sidebar": "Contents",
   "toc_cell": false,
   "toc_position": {},
   "toc_section_display": true,
   "toc_window_display": false
  }
 },
 "nbformat": 4,
 "nbformat_minor": 2
}
