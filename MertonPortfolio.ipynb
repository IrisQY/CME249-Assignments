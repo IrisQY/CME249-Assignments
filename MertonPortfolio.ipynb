{
 "cells": [
  {
   "cell_type": "markdown",
   "metadata": {},
   "source": [
    "### Merton's Portfolio problem as an MDP\n",
    "##### Continuous time\n",
    "- The State $(t,W_t), t \\in [0,T]$\n",
    "- The Action $[\\pi_t , c_t], c_t \\in [0,W_t]$\n",
    "- The Reward per unit time $U(c_t) = \\frac{c_t^{1-\\gamma}}{1-\\gamma}$ for $t <T$, and $\\frac{B(T) W_T^{1-\\gamma}}{1-\\gamma}$\n",
    "- Discount factor: $\\rho$\n",
    "- The Return: accumulated discounted Reward\n",
    "$$V(t,W_t) = \\mathbb{E}[\\int_{t}^T \\frac{e^{-\\rho(s-t)}c_s^{1-\\gamma}}{1-\\gamma} ds +\\frac{e^{-\\rho (T-t)} B(T) W_T^{1-\\gamma}}{1-\\gamma}|W_t]$$\n",
    "- Obj: Find Policy $(t,W_t) \\rightarrow [\\pi_t , c_t]$ that maximizes the Expected Return\n",
    "$$V^{\\ast}(t,W_t) = \\max_{\\pi_t, c_t}\\mathbb{E}[\\int_{t}^T \\frac{e^{-\\rho s}  c_s^{1-\\gamma}}{1-\\gamma} ds +\\frac{e^{-\\rho T} B(T) W_T^{1-\\gamma}}{1-\\gamma}|W_t]$$\n",
    "Bellman Equation:\n",
    "$$V^{\\ast}(t,W_t) = \\max_{\\pi_t, c_t}\\mathbb{E}[\\int_{t}^{t_1} \\frac{e^{-\\rho s} c_s^{1-\\gamma}}{1-\\gamma} ds +V^{\\ast}(t_1,W_{t_1})]$$\n",
    "i.e.,\n",
    "$$0 = \\max_{\\pi_t, c_t}\\mathbb{E}[dV^{\\ast}(t,W_t) + \\frac{e^{-\\rho t} c_t^{1-\\gamma}}{1-\\gamma}]$$\n",
    "i.e.,\n",
    "$$\\max_{\\pi_t, c_t}\\Phi(t,W_t; \\pi_t, c_t) = 0$$\n",
    "which leads to (two partial derivatives + function = 0):\n",
    "$$\\pi_t^{\\ast} = \\frac{\\mu-r}{\\sigma^2 \\gamma}$$\n",
    "$$c_t^{\\ast} = \\frac{\\nu W_t}{1+ (\\nu \\epsilon -1) e^{-\\nu(T-t)}}, \\nu \\neq 0$$\n",
    "$$c_t^{\\ast} = \\frac{W_t}{T-t+\\epsilon}, \\nu = 0$$\n",
    "$$\\nu = \\frac{\\rho - (1-\\gamma)(\\frac{(\\mu-r)^2}{2\\sigma^2 \\gamma}) + r}{\\gamma}$$\n",
    "\n",
    "##### Discrete time finite state space\n",
    "- The State $(t,\\bar{W}_t)$\n",
    "    - Discrete time, $t =[0,1,2,...,T]$\n",
    "    - Discrete wealth, $\\bar{W}_t = round(W_t, 0.001) | W_0 = 1$, where $W_t$ is the real wealth\n",
    "$$\\bar{W}_t = [0,0.001,0.002,...,10]$$\n",
    "- The Action $[\\pi_t , c_t], \\pi_t \\in [0,0.1,0.2,...1], c_t \\in [0,0.001,0.002,...W_t]$ (Note here I put constraint on $\\pi_t$)\n",
    "$$\\bar{W}_{t+1} = \\bar{W}_t + (1-\\pi_t)R^{rf} + \\pi_t R^{s}_t - c_t; W_0 = 1$$\n",
    "where $R^{rf}$ $R^{s}_t$ are discrete numbers $n*0.01$, $n \\in \\mathbb{N}$\n",
    "- The Reward per unit time $U(c_t) = \\frac{c_t^{1-\\gamma}}{1-\\gamma}$ for $t <T$, and $\\frac{B(T) W_T^{1-\\gamma}}{1-\\gamma}$\n",
    "- Discount factor: $\\rho$\n",
    "- The Return: accumulated discounted Reward\n",
    "$$V(t,W_t) = \\mathbb{E}[\\sum_{s =0}^{T-1}\\frac{c_s^{1-\\gamma}}{(1-\\gamma)(1+\\rho)^s} ds +\\frac{B(T) W_T^{1-\\gamma}}{(1-\\gamma)(1+\\rho)^T}|W_t]$$\n",
    "- Obj: Find Policy $(t,W_t) \\rightarrow [\\pi_t , c_t]$ that maximizes the Expected Return"
   ]
  },
  {
   "cell_type": "markdown",
   "metadata": {},
   "source": [
    "- Try recovering the closed-form solution with a DP algorithm that you implemented previously<br>\n",
    "<font color='blue'> **I save this question until implementing RL. I feel it make more sense to implement the problem on infinite, discrete state space. (vs. finite discrete). Simple discretization of the continuous probelm is computationally too expensive.** </font>"
   ]
  },
  {
   "cell_type": "markdown",
   "metadata": {},
   "source": [
    "### Implement this MDP model in code \n",
    "##### Discrete time infinite state space\n",
    "Ref: https://github.com/ranvirranaiitb/cip_mdp"
   ]
  },
  {
   "cell_type": "code",
   "execution_count": null,
   "metadata": {},
   "outputs": [],
   "source": []
  }
 ],
 "metadata": {
  "kernelspec": {
   "display_name": "Python 3",
   "language": "python",
   "name": "python3"
  },
  "language_info": {
   "codemirror_mode": {
    "name": "ipython",
    "version": 3
   },
   "file_extension": ".py",
   "mimetype": "text/x-python",
   "name": "python",
   "nbconvert_exporter": "python",
   "pygments_lexer": "ipython3",
   "version": "3.6.8"
  },
  "toc": {
   "base_numbering": 1,
   "nav_menu": {},
   "number_sections": false,
   "sideBar": true,
   "skip_h1_title": false,
   "title_cell": "Table of Contents",
   "title_sidebar": "Contents",
   "toc_cell": false,
   "toc_position": {},
   "toc_section_display": true,
   "toc_window_display": true
  }
 },
 "nbformat": 4,
 "nbformat_minor": 2
}
