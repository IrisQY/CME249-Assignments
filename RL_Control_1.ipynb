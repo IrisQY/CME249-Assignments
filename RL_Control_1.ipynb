{
 "cells": [
  {
   "cell_type": "code",
   "execution_count": 1,
   "metadata": {},
   "outputs": [],
   "source": [
    "import numpy as np\n",
    "import pandas as pd\n",
    "import scipy\n",
    "from typing import TypeVar,Mapping, Set, Generic, Sequence, Callable"
   ]
  },
  {
   "cell_type": "markdown",
   "metadata": {},
   "source": [
    "### Epsilon-Greedy Policy Improvement Theorem\n",
    "Definition of $\\epsilon$-greedy: $\\pi(a|s) = \\epsilon/m + 1 -\\epsilon$ for $a = \\arg \\max_a Q(s,a)$ and $\\pi(a|s) = \\epsilon/m$ otherwise.\n",
    "Proof: If $\\pi'$ is the $\\epsilon$-greedy improvement from $Q_{\\pi}(s,a)$.\n",
    "$$\n",
    "\\begin{split}\n",
    "Q_{\\pi}(s,\\pi'(s)) &= \\sum_{a \\in A} \\pi'(a|s) Q_{\\pi}(s,a)\\\\\n",
    "&= \\epsilon/m \\sum_{a \\in A} Q_{\\pi}(s,a) + (1 -\\epsilon) \\max_{a \\in A} Q_{\\pi}(s,a)\\\\\n",
    "& \\geq \\epsilon/m \\sum_{a \\in A} Q_{\\pi}(s,a) + (1 -\\epsilon) \\sum_{a \\in A} \\frac{\\pi(a|s) - \\epsilon/m}{1 -\\epsilon}Q_{\\pi}(s,a)\\\\\n",
    "& \\geq \\sum_{a \\in A}\\pi(a|s) Q_{\\pi}(s,a)\\\\\n",
    "&= V_{\\pi}(s)\n",
    "\\end{split}\n",
    "$$\n",
    "Thus $V_{\\pi'}(s) \\geq V_{\\pi}(s)$."
   ]
  },
  {
   "cell_type": "markdown",
   "metadata": {},
   "source": [
    "### Greedy in the Limit with Infinite Exploration"
   ]
  },
  {
   "cell_type": "markdown",
   "metadata": {},
   "source": [
    "###  Sarsa"
   ]
  },
  {
   "cell_type": "markdown",
   "metadata": {},
   "source": [
    "### Q-Learning"
   ]
  },
  {
   "cell_type": "markdown",
   "metadata": {},
   "source": [
    "### Test implementions"
   ]
  }
 ],
 "metadata": {
  "kernelspec": {
   "display_name": "Python 3",
   "language": "python",
   "name": "python3"
  },
  "language_info": {
   "codemirror_mode": {
    "name": "ipython",
    "version": 3
   },
   "file_extension": ".py",
   "mimetype": "text/x-python",
   "name": "python",
   "nbconvert_exporter": "python",
   "pygments_lexer": "ipython3",
   "version": "3.6.8"
  },
  "toc": {
   "base_numbering": 1,
   "nav_menu": {},
   "number_sections": false,
   "sideBar": true,
   "skip_h1_title": false,
   "title_cell": "Table of Contents",
   "title_sidebar": "Contents",
   "toc_cell": false,
   "toc_position": {},
   "toc_section_display": true,
   "toc_window_display": true
  }
 },
 "nbformat": 4,
 "nbformat_minor": 2
}
